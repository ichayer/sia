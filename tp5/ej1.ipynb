{
 "cells": [
  {
   "cell_type": "code",
   "execution_count": 1,
   "metadata": {
    "collapsed": true,
    "ExecuteTime": {
     "end_time": "2023-06-19T19:56:15.168012Z",
     "start_time": "2023-06-19T19:55:55.592436Z"
    }
   },
   "outputs": [
    {
     "name": "stdout",
     "output_type": "stream",
     "text": [
      "Epoch 100\n",
      "Average elapsed time 57.98085542885673ms\n",
      "Error: 381.3268074362545\n",
      "Epoch 200\n",
      "Average elapsed time 58.73432958195129ms\n",
      "Error: 397.3823048160388\n",
      "Epoch 300\n",
      "Average elapsed time 60.470076508795756ms\n",
      "Error: 401.55533753013657\n",
      "⚠⚠⚠ WARNING! Error from epoch 300 has increased relative to previous epoch!\n"
     ]
    },
    {
     "ename": "KeyboardInterrupt",
     "evalue": "",
     "output_type": "error",
     "traceback": [
      "\u001B[0;31m---------------------------------------------------------------------------\u001B[0m",
      "\u001B[0;31mKeyboardInterrupt\u001B[0m                         Traceback (most recent call last)",
      "Cell \u001B[0;32mIn[1], line 3\u001B[0m\n\u001B[1;32m      1\u001B[0m \u001B[38;5;28;01mfrom\u001B[39;00m \u001B[38;5;21;01mtp5\u001B[39;00m\u001B[38;5;21;01m.\u001B[39;00m\u001B[38;5;21;01mej1a\u001B[39;00m \u001B[38;5;28;01mimport\u001B[39;00m exercise_a\n\u001B[0;32m----> 3\u001B[0m \u001B[43mexercise_a\u001B[49m\u001B[43m(\u001B[49m\u001B[43m[\u001B[49m\u001B[38;5;241;43m35\u001B[39;49m\u001B[43m,\u001B[49m\u001B[43m \u001B[49m\u001B[38;5;241;43m15\u001B[39;49m\u001B[43m,\u001B[49m\u001B[43m \u001B[49m\u001B[38;5;241;43m2\u001B[39;49m\u001B[43m,\u001B[49m\u001B[43m \u001B[49m\u001B[38;5;241;43m15\u001B[39;49m\u001B[43m,\u001B[49m\u001B[43m \u001B[49m\u001B[38;5;241;43m35\u001B[39;49m\u001B[43m]\u001B[49m\u001B[43m)\u001B[49m\n",
      "File \u001B[0;32m~/sia/sia/tp5/ej1a.py:103\u001B[0m, in \u001B[0;36mexercise_a\u001B[0;34m(perceptrons_by_layer, limit)\u001B[0m\n\u001B[1;32m     99\u001B[0m dataset_input \u001B[38;5;241m=\u001B[39m load_pattern_map(\u001B[38;5;124m'\u001B[39m\u001B[38;5;124mcharacters.txt\u001B[39m\u001B[38;5;124m'\u001B[39m)\n\u001B[1;32m    101\u001B[0m mp \u001B[38;5;241m=\u001B[39m create_multilayer_perceptron(perceptrons_by_layer, config, dataset_input)\n\u001B[0;32m--> 103\u001B[0m result \u001B[38;5;241m=\u001B[39m \u001B[43mtrain_multilayer_perceptron\u001B[49m\u001B[43m(\u001B[49m\n\u001B[1;32m    104\u001B[0m \u001B[43m    \u001B[49m\u001B[43mmultilayer_perceptron\u001B[49m\u001B[38;5;241;43m=\u001B[39;49m\u001B[43mmp\u001B[49m\u001B[43m,\u001B[49m\n\u001B[1;32m    105\u001B[0m \u001B[43m    \u001B[49m\u001B[43mdataset\u001B[49m\u001B[38;5;241;43m=\u001B[39;49m\u001B[38;5;28;43mlist\u001B[39;49m\u001B[43m(\u001B[49m\u001B[43mdataset_input\u001B[49m\u001B[38;5;241;43m.\u001B[39;49m\u001B[43mvalues\u001B[49m\u001B[43m(\u001B[49m\u001B[43m)\u001B[49m\u001B[43m)\u001B[49m\u001B[43m[\u001B[49m\u001B[38;5;241;43m0\u001B[39;49m\u001B[43m:\u001B[49m\u001B[43mlimit\u001B[49m\u001B[43m]\u001B[49m\u001B[43m,\u001B[49m\n\u001B[1;32m    106\u001B[0m \u001B[43m    \u001B[49m\u001B[43mconfig\u001B[49m\u001B[38;5;241;43m=\u001B[39;49m\u001B[43mconfig\u001B[49m\n\u001B[1;32m    107\u001B[0m \u001B[43m\u001B[49m\u001B[43m)\u001B[49m\n\u001B[1;32m    109\u001B[0m \u001B[38;5;28mprint\u001B[39m(\n\u001B[1;32m    110\u001B[0m     \u001B[38;5;124mf\u001B[39m\u001B[38;5;124m\"\u001B[39m\u001B[38;5;130;01m\\n\u001B[39;00m\u001B[38;5;124mEpoch: \u001B[39m\u001B[38;5;132;01m{\u001B[39;00mresult\u001B[38;5;241m.\u001B[39mepoch_num\u001B[38;5;132;01m}\u001B[39;00m\u001B[38;5;124m, End Reason: \u001B[39m\u001B[38;5;132;01m{\u001B[39;00mresult\u001B[38;5;241m.\u001B[39mend_reason\u001B[38;5;132;01m}\u001B[39;00m\u001B[38;5;124m, Error: \u001B[39m\u001B[38;5;132;01m{\u001B[39;00mresult\u001B[38;5;241m.\u001B[39merror_history[\u001B[38;5;241m-\u001B[39m\u001B[38;5;241m1\u001B[39m]\u001B[38;5;132;01m:\u001B[39;00m\u001B[38;5;124m.4f\u001B[39m\u001B[38;5;132;01m}\u001B[39;00m\u001B[38;5;130;01m\\n\u001B[39;00m\u001B[38;5;124m\"\u001B[39m)\n\u001B[1;32m    112\u001B[0m dots \u001B[38;5;241m=\u001B[39m []\n",
      "File \u001B[0;32m~/sia/sia/tp5/trainer.py:226\u001B[0m, in \u001B[0;36mtrain_multilayer_perceptron\u001B[0;34m(multilayer_perceptron, dataset, config)\u001B[0m\n\u001B[1;32m    224\u001B[0m weights_history\u001B[38;5;241m.\u001B[39mappend([])\n\u001B[1;32m    225\u001B[0m \u001B[38;5;28;01mfor\u001B[39;00m i \u001B[38;5;129;01min\u001B[39;00m \u001B[38;5;28mrange\u001B[39m(\u001B[38;5;28mlen\u001B[39m(dataset)):\n\u001B[0;32m--> 226\u001B[0m     \u001B[43mmultilayer_perceptron\u001B[49m\u001B[38;5;241;43m.\u001B[39;49m\u001B[43mevaluate_and_adjust\u001B[49m\u001B[43m(\u001B[49m\u001B[43mdataset\u001B[49m\u001B[43m[\u001B[49m\u001B[43mi\u001B[49m\u001B[43m]\u001B[49m\u001B[43m,\u001B[49m\u001B[43m \u001B[49m\u001B[43mconfig\u001B[49m\u001B[38;5;241;43m.\u001B[39;49m\u001B[43mlearning_rate\u001B[49m\u001B[43m)\u001B[49m\n\u001B[1;32m    227\u001B[0m     result_history[\u001B[38;5;241m-\u001B[39m\u001B[38;5;241m1\u001B[39m]\u001B[38;5;241m.\u001B[39mappend([])\n\u001B[1;32m    228\u001B[0m     \u001B[38;5;28;01mfor\u001B[39;00m (j, perceptron) \u001B[38;5;129;01min\u001B[39;00m \u001B[38;5;28menumerate\u001B[39m(multilayer_perceptron\u001B[38;5;241m.\u001B[39mlast_layer):\n",
      "File \u001B[0;32m~/sia/sia/tp5/perceptron.py:124\u001B[0m, in \u001B[0;36mMultilayerPerceptron.evaluate_and_adjust\u001B[0;34m(self, input_data, learning_rate)\u001B[0m\n\u001B[1;32m    121\u001B[0m delta_lc_w \u001B[38;5;241m*\u001B[39m\u001B[38;5;241m=\u001B[39m perceptron\u001B[38;5;241m.\u001B[39mtheta_func\u001B[38;5;241m.\u001B[39mderivative(perceptron\u001B[38;5;241m.\u001B[39moutput, perceptron\u001B[38;5;241m.\u001B[39mh)\n\u001B[1;32m    123\u001B[0m \u001B[38;5;28;01mif\u001B[39;00m i \u001B[38;5;241m!=\u001B[39m \u001B[38;5;241m0\u001B[39m:\n\u001B[0;32m--> 124\u001B[0m     \u001B[43mperceptron\u001B[49m\u001B[38;5;241;43m.\u001B[39;49m\u001B[43madjust\u001B[49m\u001B[43m(\u001B[49m\u001B[38;5;28;43mself\u001B[39;49m\u001B[38;5;241;43m.\u001B[39;49m\u001B[43mresults\u001B[49m\u001B[43m[\u001B[49m\u001B[43mi\u001B[49m\u001B[43m \u001B[49m\u001B[38;5;241;43m-\u001B[39;49m\u001B[43m \u001B[49m\u001B[38;5;241;43m1\u001B[39;49m\u001B[43m]\u001B[49m\u001B[43m,\u001B[49m\u001B[43m \u001B[49m\u001B[43mdelta_lc_w\u001B[49m\u001B[43m,\u001B[49m\u001B[43m \u001B[49m\u001B[43mlearning_rate\u001B[49m\u001B[43m)\u001B[49m\n\u001B[1;32m    125\u001B[0m \u001B[38;5;28;01melse\u001B[39;00m:\n\u001B[1;32m    126\u001B[0m     perceptron\u001B[38;5;241m.\u001B[39madjust(input_data, delta_lc_w, learning_rate)\n",
      "File \u001B[0;32m~/sia/sia/tp5/perceptron.py:60\u001B[0m, in \u001B[0;36mPerceptron.adjust\u001B[0;34m(self, input_data, delta_lc_w, learning_rate)\u001B[0m\n\u001B[1;32m     58\u001B[0m gt \u001B[38;5;241m=\u001B[39m delta_lc_w \u001B[38;5;241m*\u001B[39m input_data\n\u001B[1;32m     59\u001B[0m \u001B[38;5;28mself\u001B[39m\u001B[38;5;241m.\u001B[39mprevious_delta_w \u001B[38;5;241m=\u001B[39m \u001B[38;5;28mself\u001B[39m\u001B[38;5;241m.\u001B[39m__delta_w\n\u001B[0;32m---> 60\u001B[0m \u001B[38;5;28mself\u001B[39m\u001B[38;5;241m.\u001B[39m__delta_w \u001B[38;5;241m+\u001B[39m\u001B[38;5;241m=\u001B[39m \u001B[38;5;28;43mself\u001B[39;49m\u001B[38;5;241;43m.\u001B[39;49m\u001B[43moptimizer\u001B[49m\u001B[38;5;241;43m.\u001B[39;49m\u001B[43madjust\u001B[49m\u001B[43m(\u001B[49m\u001B[38;5;28;43mself\u001B[39;49m\u001B[43m,\u001B[49m\u001B[43m \u001B[49m\u001B[43mgt\u001B[49m\u001B[43m,\u001B[49m\u001B[43m \u001B[49m\u001B[43mlearning_rate\u001B[49m\u001B[43m)\u001B[49m\n",
      "File \u001B[0;32m~/sia/sia/tp5/optimizers.py:50\u001B[0m, in \u001B[0;36mAdam.adjust\u001B[0;34m(self, perceptron, gt, learning_rate)\u001B[0m\n\u001B[1;32m     47\u001B[0m \u001B[38;5;28mself\u001B[39m\u001B[38;5;241m.\u001B[39mv \u001B[38;5;241m=\u001B[39m \u001B[38;5;28mself\u001B[39m\u001B[38;5;241m.\u001B[39mb2 \u001B[38;5;241m*\u001B[39m \u001B[38;5;28mself\u001B[39m\u001B[38;5;241m.\u001B[39mv \u001B[38;5;241m+\u001B[39m (\u001B[38;5;241m1\u001B[39m \u001B[38;5;241m-\u001B[39m \u001B[38;5;28mself\u001B[39m\u001B[38;5;241m.\u001B[39mb2) \u001B[38;5;241m*\u001B[39m np\u001B[38;5;241m.\u001B[39mpower(gt, \u001B[38;5;241m2\u001B[39m)\n\u001B[1;32m     49\u001B[0m m_hat \u001B[38;5;241m=\u001B[39m \u001B[38;5;28mself\u001B[39m\u001B[38;5;241m.\u001B[39mm \u001B[38;5;241m/\u001B[39m (\u001B[38;5;241m1\u001B[39m \u001B[38;5;241m-\u001B[39m np\u001B[38;5;241m.\u001B[39mpower(\u001B[38;5;28mself\u001B[39m\u001B[38;5;241m.\u001B[39mb1, \u001B[38;5;28mself\u001B[39m\u001B[38;5;241m.\u001B[39mt))\n\u001B[0;32m---> 50\u001B[0m v_hat \u001B[38;5;241m=\u001B[39m \u001B[38;5;28mself\u001B[39m\u001B[38;5;241m.\u001B[39mv \u001B[38;5;241m/\u001B[39m (\u001B[38;5;241m1\u001B[39m \u001B[38;5;241m-\u001B[39m \u001B[43mnp\u001B[49m\u001B[38;5;241;43m.\u001B[39;49m\u001B[43mpower\u001B[49m\u001B[43m(\u001B[49m\u001B[38;5;28;43mself\u001B[39;49m\u001B[38;5;241;43m.\u001B[39;49m\u001B[43mb2\u001B[49m\u001B[43m,\u001B[49m\u001B[43m \u001B[49m\u001B[38;5;28;43mself\u001B[39;49m\u001B[38;5;241;43m.\u001B[39;49m\u001B[43mt\u001B[49m\u001B[43m)\u001B[49m)\n\u001B[1;32m     52\u001B[0m w_updt \u001B[38;5;241m=\u001B[39m learning_rate \u001B[38;5;241m*\u001B[39m m_hat \u001B[38;5;241m/\u001B[39m (np\u001B[38;5;241m.\u001B[39msqrt(v_hat) \u001B[38;5;241m+\u001B[39m \u001B[38;5;28mself\u001B[39m\u001B[38;5;241m.\u001B[39meps)\n\u001B[1;32m     54\u001B[0m \u001B[38;5;66;03m# return w - self.w_updt\u001B[39;00m\n",
      "\u001B[0;31mKeyboardInterrupt\u001B[0m: "
     ]
    }
   ],
   "source": [
    "from tp5.ej1a import exercise_a\n",
    "\n",
    "exercise_a([35, 15, 2, 15, 35])"
   ]
  },
  {
   "cell_type": "code",
   "execution_count": null,
   "outputs": [],
   "source": [],
   "metadata": {
    "collapsed": false
   }
  }
 ],
 "metadata": {
  "kernelspec": {
   "display_name": "Python 3",
   "language": "python",
   "name": "python3"
  },
  "language_info": {
   "codemirror_mode": {
    "name": "ipython",
    "version": 2
   },
   "file_extension": ".py",
   "mimetype": "text/x-python",
   "name": "python",
   "nbconvert_exporter": "python",
   "pygments_lexer": "ipython2",
   "version": "2.7.6"
  }
 },
 "nbformat": 4,
 "nbformat_minor": 0
}
